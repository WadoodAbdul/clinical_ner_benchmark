{
 "cells": [
  {
   "cell_type": "code",
   "execution_count": 1,
   "metadata": {},
   "outputs": [],
   "source": [
    "%load_ext autoreload\n",
    "%autoreload 2"
   ]
  },
  {
   "cell_type": "code",
   "execution_count": 2,
   "metadata": {},
   "outputs": [
    {
     "name": "stderr",
     "output_type": "stream",
     "text": [
      "/nfs/users/ext_mohammed.abdul.wadood/miniconda3/envs/medical_coder_ner/lib/python3.10/site-packages/tqdm/auto.py:21: TqdmWarning: IProgress not found. Please update jupyter and ipywidgets. See https://ipywidgets.readthedocs.io/en/stable/user_install.html\n",
      "  from .autonotebook import tqdm as notebook_tqdm\n"
     ]
    }
   ],
   "source": [
    "from models.hf_extractor import HFEncoderSpanExtractor, HFDecoderSpanExtractor"
   ]
  },
  {
   "cell_type": "code",
   "execution_count": 3,
   "metadata": {},
   "outputs": [],
   "source": [
    "text = \"he was diagnosed with skin cancer disease\"\n",
    "\n",
    "def test_model(span_extractor):\n",
    "    print(\"label normalization map = \", span_extractor.label_normalization_map)\n",
    "    print(span_extractor(text))\n",
    "    "
   ]
  },
  {
   "cell_type": "code",
   "execution_count": null,
   "metadata": {},
   "outputs": [],
   "source": []
  },
  {
   "cell_type": "code",
   "execution_count": 3,
   "metadata": {},
   "outputs": [],
   "source": [
    "model_config = {   \"identifier\": \"alvaroalon2/biobert_diseases_ner\",\n",
    "    \"model_args\": {\n",
    "        \"label_normalization_map\": {\n",
    "            \"disease\": \"condition\",\n",
    "            \"DISEASE\": \"condition\"\n",
    "        }\n",
    "    }\n",
    "}\n",
    "\n",
    "span_extractor = HFEncoderSpanExtractor(model_config['identifier'],\n",
    "                                        # **model_config['model_args']\n",
    "                                        )"
   ]
  },
  {
   "cell_type": "code",
   "execution_count": 31,
   "metadata": {},
   "outputs": [],
   "source": [
    "span_extractor = HFEncoderSpanExtractor(model_config['identifier'],\n",
    "                                        # **model_config['model_args']\n",
    "                                        )"
   ]
  },
  {
   "cell_type": "code",
   "execution_count": 32,
   "metadata": {},
   "outputs": [],
   "source": [
    "test_model(span_extractor)"
   ]
  },
  {
   "cell_type": "code",
   "execution_count": 4,
   "metadata": {},
   "outputs": [],
   "source": []
  },
  {
   "cell_type": "code",
   "execution_count": null,
   "metadata": {},
   "outputs": [],
   "source": []
  },
  {
   "cell_type": "code",
   "execution_count": 4,
   "metadata": {},
   "outputs": [
    {
     "name": "stderr",
     "output_type": "stream",
     "text": [
      "/nfs/users/ext_mohammed.abdul.wadood/miniconda3/envs/medical_coder_ner/lib/python3.10/site-packages/huggingface_hub/file_download.py:1132: FutureWarning: `resume_download` is deprecated and will be removed in version 1.0.0. Downloads always resume when possible. If you want to force a new download, use `force_download=True`.\n",
      "  warnings.warn(\n"
     ]
    }
   ],
   "source": [
    "model_config = {   \"identifier\": \"Universal-NER/UniNER-7B-type\",\n",
    "    \"model_args\": {\n",
    "        \"prompt_file_path\": \"/nfs/projects/healthcare/USERS/wadood/medics_ner/data/inputs/prompt_templates/universal_ner.jinja\",\n",
    "        \"label_normalization_map\": {\n",
    "            \"disease\": \"condition\",\n",
    "        }\n",
    "    }\n",
    "}\n",
    "\n",
    "span_extractor = HFDecoderSpanExtractor(model_config['identifier'],\n",
    "                                        **model_config['model_args']\n",
    "                                        )"
   ]
  },
  {
   "cell_type": "code",
   "execution_count": null,
   "metadata": {},
   "outputs": [
    {
     "name": "stdout",
     "output_type": "stream",
     "text": [
      "label normalization map =  {'disease': 'condition'}\n",
      "NERSpans(parent_text='he was diagnosed with skin cancer disease', spans=[])\n"
     ]
    }
   ],
   "source": [
    "test_model(span_extractor)"
   ]
  },
  {
   "cell_type": "code",
   "execution_count": 7,
   "metadata": {},
   "outputs": [
    {
     "data": {
      "text/plain": [
       "[{'generated_text': ' [\"skin cancer disease\"]'}]"
      ]
     },
     "execution_count": 7,
     "metadata": {},
     "output_type": "execute_result"
    }
   ],
   "source": [
    "completion = span_extractor.get_text_completion(text, 'disease')\n",
    "completion"
   ]
  },
  {
   "cell_type": "code",
   "execution_count": 8,
   "metadata": {},
   "outputs": [
    {
     "data": {
      "text/plain": [
       "[NERSpan(start=22, end=41, span_text='skin cancer disease', label='condition', confidence=-1.0)]"
      ]
     },
     "execution_count": 8,
     "metadata": {},
     "output_type": "execute_result"
    }
   ],
   "source": [
    "span_extractor.parse_generated_output(completion, text, 'disease', 'condition')"
   ]
  },
  {
   "cell_type": "code",
   "execution_count": null,
   "metadata": {},
   "outputs": [],
   "source": []
  }
 ],
 "metadata": {
  "kernelspec": {
   "display_name": "hf_ner_leaderboard",
   "language": "python",
   "name": "python3"
  },
  "language_info": {
   "codemirror_mode": {
    "name": "ipython",
    "version": 3
   },
   "file_extension": ".py",
   "mimetype": "text/x-python",
   "name": "python",
   "nbconvert_exporter": "python",
   "pygments_lexer": "ipython3",
   "version": "3.10.14"
  }
 },
 "nbformat": 4,
 "nbformat_minor": 2
}
