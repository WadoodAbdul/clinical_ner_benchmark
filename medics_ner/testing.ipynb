{
 "cells": [
  {
   "cell_type": "code",
   "execution_count": 1,
   "metadata": {},
   "outputs": [],
   "source": [
    "%load_ext autoreload\n",
    "%autoreload 2"
   ]
  },
  {
   "cell_type": "code",
   "execution_count": null,
   "metadata": {},
   "outputs": [],
   "source": []
  },
  {
   "cell_type": "markdown",
   "metadata": {},
   "source": [
    "# Evaluation"
   ]
  },
  {
   "cell_type": "code",
   "execution_count": 2,
   "metadata": {},
   "outputs": [],
   "source": [
    "from medics_ner.models import SpanExtractor\n",
    "from medics_ner.evaluation.evaluators import Evaluator\n",
    "from medics_ner.benchmarks import MEDICS_NER"
   ]
  },
  {
   "cell_type": "code",
   "execution_count": 3,
   "metadata": {},
   "outputs": [
    {
     "name": "stdout",
     "output_type": "stream",
     "text": [
      "Loaded HF NER model identifier='alvaroalon2/biobert_diseases_ner' with model_kwargs={}\n"
     ]
    }
   ],
   "source": [
    "model_name = \"alvaroalon2/biobert_diseases_ner\"\n",
    "\n",
    "# this is model and dataset specific.\n",
    "dataset_wise_config = {\n",
    "        \"NCBI\": {\"label_normalization_map\": {\"DISEASE\": \"condition\"}}\n",
    "    }\n",
    "# load a predefined model (or for a custom implementation see https://github.com/WadoodAbdul/medics_ner/blob/main/docs/custom_model_implementation.md)\n",
    "model = SpanExtractor.from_predefined(model_name)"
   ]
  },
  {
   "cell_type": "code",
   "execution_count": 4,
   "metadata": {},
   "outputs": [],
   "source": [
    "\n",
    "benchmark = MEDICS_NER # or use a specific benchmark\n",
    "# or \n",
    "# tasks = mteb.get_tasks(...) # get specific tasks"
   ]
  },
  {
   "cell_type": "code",
   "execution_count": 8,
   "metadata": {},
   "outputs": [
    {
     "name": "stderr",
     "output_type": "stream",
     "text": [
      "Using the latest cached version of the dataset since m42-health/medics_ner couldn't be found on the Hugging Face Hub\n",
      "2024-06-26 11:59:45 datasets.load WARNING: Using the latest cached version of the dataset since m42-health/medics_ner couldn't be found on the Hugging Face Hub\n",
      "Found the latest cached dataset configuration 'default' at /Users/wabdulm42.ae/.cache/huggingface/datasets/m42-health___medics_ner/default/0.0.0/3b8c1b170d4f067634abd2d64fd73b00eeff2d53 (last modified on Mon Jun 24 11:31:19 2024).\n",
      "2024-06-26 11:59:45 datasets.packaged_modules.cache.cache WARNING: Found the latest cached dataset configuration 'default' at /Users/wabdulm42.ae/.cache/huggingface/datasets/m42-health___medics_ner/default/0.0.0/3b8c1b170d4f067634abd2d64fd73b00eeff2d53 (last modified on Mon Jun 24 11:31:19 2024).\n",
      "100%|██████████| 200/200 [00:38<00:00,  5.19it/s]\n"
     ]
    },
    {
     "data": {
      "application/vnd.jupyter.widget-view+json": {
       "model_id": "5f08a6b77dbd47f18aed2c78099efe18",
       "version_major": 2,
       "version_minor": 0
      },
      "text/plain": [
       "Saving the dataset (0/1 shards):   0%|          | 0/200 [00:00<?, ? examples/s]"
      ]
     },
     "metadata": {},
     "output_type": "display_data"
    },
    {
     "name": "stdout",
     "output_type": "stream",
     "text": [
      "{'ent_type': {'correct': 1646, 'incorrect': 0, 'partial': 0, 'missed': 123, 'spurious': 105, 'possible': 1769, 'actual': 1751, 'precision': 0.9400342661336379, 'recall': 0.9304691916336914, 'f1': 0.9352272727272728}, 'partial': {'correct': 1498, 'incorrect': 0, 'partial': 148, 'missed': 123, 'spurious': 105, 'possible': 1769, 'actual': 1751, 'precision': 0.8977727013135351, 'recall': 0.8886376483889203, 'f1': 0.8931818181818182}, 'strict': {'correct': 1498, 'incorrect': 148, 'partial': 0, 'missed': 123, 'spurious': 105, 'possible': 1769, 'actual': 1751, 'precision': 0.8555111364934324, 'recall': 0.8468061051441492, 'f1': 0.8511363636363636}, 'exact': {'correct': 1498, 'incorrect': 148, 'partial': 0, 'missed': 123, 'spurious': 105, 'possible': 1769, 'actual': 1751, 'precision': 0.8555111364934324, 'recall': 0.8468061051441492, 'f1': 0.8511363636363636}}\n",
      "{'condition': {'ent_type': {'correct': 1646, 'incorrect': 0, 'partial': 0, 'missed': 123, 'spurious': 105, 'possible': 1769, 'actual': 1751, 'precision': 0.9400342661336379, 'recall': 0.9304691916336914, 'f1': 0.9352272727272728}, 'partial': {'correct': 1498, 'incorrect': 0, 'partial': 148, 'missed': 123, 'spurious': 105, 'possible': 1769, 'actual': 1751, 'precision': 0.8977727013135351, 'recall': 0.8886376483889203, 'f1': 0.8931818181818182}, 'strict': {'correct': 1498, 'incorrect': 148, 'partial': 0, 'missed': 123, 'spurious': 105, 'possible': 1769, 'actual': 1751, 'precision': 0.8555111364934324, 'recall': 0.8468061051441492, 'f1': 0.8511363636363636}, 'exact': {'correct': 1498, 'incorrect': 148, 'partial': 0, 'missed': 123, 'spurious': 105, 'possible': 1769, 'actual': 1751, 'precision': 0.8555111364934324, 'recall': 0.8468061051441492, 'f1': 0.8511363636363636}}}\n",
      "f1-score: 0.8931818181818182\n"
     ]
    }
   ],
   "source": [
    "evaluator = Evaluator(model, benchmark=benchmark, dataset_wise_config=dataset_wise_config, output_dir=None)\n",
    "evaluator.run()"
   ]
  },
  {
   "cell_type": "code",
   "execution_count": null,
   "metadata": {},
   "outputs": [],
   "source": []
  },
  {
   "cell_type": "code",
   "execution_count": null,
   "metadata": {},
   "outputs": [],
   "source": []
  }
 ],
 "metadata": {
  "kernelspec": {
   "display_name": "hf_ner_leaderboard",
   "language": "python",
   "name": "python3"
  },
  "language_info": {
   "codemirror_mode": {
    "name": "ipython",
    "version": 3
   },
   "file_extension": ".py",
   "mimetype": "text/x-python",
   "name": "python",
   "nbconvert_exporter": "python",
   "pygments_lexer": "ipython3",
   "version": "3.10.14"
  }
 },
 "nbformat": 4,
 "nbformat_minor": 2
}
